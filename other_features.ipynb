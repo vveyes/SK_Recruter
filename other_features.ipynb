{
 "cells": [
  {
   "metadata": {},
   "cell_type": "markdown",
   "source": "Здесь те признаки, что не прошли корреляцию, превысили мультиколлинеарность или давали минимальные/отрицательные результаты  ",
   "id": "95fb8210d99c0b70"
  },
  {
   "cell_type": "code",
   "execution_count": null,
   "id": "initial_id",
   "metadata": {
    "collapsed": true
   },
   "outputs": [],
   "source": [
    "'''# Суммарное уникальное разнообразие\n",
    "def calculate_total_lexical_diversity(answers):\n",
    "    if not isinstance(answers, list) or not answers:\n",
    "        return 0\n",
    "\n",
    "    unique_words = sum(len(set(word_tokenize(answer))) for answer in answers if answer)\n",
    "    total_words = sum(len(word_tokenize(answer)) for answer in answers if answer)\n",
    "    return round(unique_words / total_words, 3) if total_words > 0 else 0\n",
    "\n",
    "df['total_lexical_diversity'] = df['only_answers'].apply(calculate_total_lexical_diversity)'''"
   ]
  },
  {
   "metadata": {},
   "cell_type": "code",
   "outputs": [],
   "execution_count": null,
   "source": [
    "'''# Суммарное количество стоп-слов\n",
    "def calculate_total_stop_words(answers):\n",
    "    if not isinstance(answers, list) or not answers:\n",
    "        return 0\n",
    "\n",
    "    return sum(\n",
    "        count_stop_words(answer)['russian'] + count_stop_words(answer)['english']\n",
    "        for answer in answers if answer and count_stop_words(answer) is not None\n",
    "    )\n",
    "df['total_stop_words'] = df['only_answers'].apply(calculate_total_stop_words).round(2)\n",
    "'''"
   ],
   "id": "772daf4b3b1755bc"
  },
  {
   "metadata": {},
   "cell_type": "code",
   "outputs": [],
   "execution_count": null,
   "source": [
    "'''# Функция для проверки, есть ли стоп-слова в ответе\n",
    "def has_no_stop_words(answer):\n",
    "    stop_word_count = count_stop_words(answer)\n",
    "    if stop_word_count:  # Проверяем, что результат не None\n",
    "        return sum(stop_word_count.values()) == 0  # Проверяем, что сумма стоп-слов равна 0\n",
    "    return False\n",
    "\n",
    "# Функция для подсчета ответов без стоп-слов в блоке\n",
    "def count_answers_without_stop_words(answers):\n",
    "    if not answers:  # Проверяем, что блок ответов не пустой\n",
    "        return 0\n",
    "    return sum(1 for answer in answers if has_no_stop_words(answer))\n",
    "\n",
    "# Применяем функцию к каждому блоку\n",
    "df['answers_without_stop_words'] = df['only_answers'].apply(count_answers_without_stop_words)\n",
    "'''"
   ],
   "id": "73732b4cfa33cdf4"
  }
 ],
 "metadata": {
  "kernelspec": {
   "display_name": "Python 3",
   "language": "python",
   "name": "python3"
  },
  "language_info": {
   "codemirror_mode": {
    "name": "ipython",
    "version": 2
   },
   "file_extension": ".py",
   "mimetype": "text/x-python",
   "name": "python",
   "nbconvert_exporter": "python",
   "pygments_lexer": "ipython2",
   "version": "2.7.6"
  }
 },
 "nbformat": 4,
 "nbformat_minor": 5
}
